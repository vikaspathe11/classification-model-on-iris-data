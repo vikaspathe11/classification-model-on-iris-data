{
 "cells": [
  {
   "cell_type": "markdown",
   "id": "b199c80d",
   "metadata": {},
   "source": [
    "# Classification"
   ]
  },
  {
   "cell_type": "code",
   "execution_count": 1,
   "id": "81904646",
   "metadata": {},
   "outputs": [],
   "source": [
    "#importing required library\n",
    "import numpy as np\n",
    "import pandas as pd\n",
    "import matplotlib.pyplot as plt\n"
   ]
  },
  {
   "cell_type": "markdown",
   "id": "54b175fd",
   "metadata": {},
   "source": [
    "# Load dataset and preprocessing"
   ]
  },
  {
   "cell_type": "code",
   "execution_count": 2,
   "id": "2d29a72a",
   "metadata": {},
   "outputs": [
    {
     "data": {
      "text/plain": [
       "['sepal length (cm)',\n",
       " 'sepal width (cm)',\n",
       " 'petal length (cm)',\n",
       " 'petal width (cm)']"
      ]
     },
     "execution_count": 2,
     "metadata": {},
     "output_type": "execute_result"
    }
   ],
   "source": [
    "from sklearn.datasets import load_iris\n",
    "\n",
    "iris = load_iris()\n",
    "\n",
    "\n",
    "iris.feature_names"
   ]
  },
  {
   "cell_type": "code",
   "execution_count": 3,
   "id": "cef7ebe6",
   "metadata": {},
   "outputs": [],
   "source": [
    "Data_iris = iris.data\n",
    "\n",
    "Data_iris = pd.DataFrame(Data_iris, columns = iris.feature_names)"
   ]
  },
  {
   "cell_type": "code",
   "execution_count": 4,
   "id": "c6800f60",
   "metadata": {},
   "outputs": [],
   "source": [
    "Data_iris['label'] = iris.target"
   ]
  },
  {
   "cell_type": "code",
   "execution_count": 5,
   "id": "633ce124",
   "metadata": {},
   "outputs": [
    {
     "data": {
      "image/png": "[encoded data removed]",
      "text/plain": [
       "<Figure size 432x288 with 1 Axes>"
      ]
     },
     "metadata": {
      "needs_background": "light"
     },
     "output_type": "display_data"
    }
   ],
   "source": [
    "plt.scatter(Data_iris.iloc[:,2], Data_iris.iloc[:,3], c = iris.target )\n",
    "plt.xlabel('Petal Length (cm)')\n",
    "plt.ylabel('Petal Width (cm)')\n",
    "plt.show()"
   ]
  },
  {
   "cell_type": "code",
   "execution_count": 6,
   "id": "13d1f24e",
   "metadata": {},
   "outputs": [],
   "source": [
    "x = Data_iris.iloc[:,0:4]\n",
    "y = Data_iris.iloc[:,4]"
   ]
  },
  {
   "cell_type": "markdown",
   "id": "eb6e55b2",
   "metadata": {},
   "source": [
    "# k-NN Classifier"
   ]
  },
  {
   "cell_type": "code",
   "execution_count": 7,
   "id": "1e806fb0",
   "metadata": {},
   "outputs": [
    {
     "data": {
      "text/plain": [
       "KNeighborsClassifier(n_neighbors=6, p=1)"
      ]
     },
     "execution_count": 7,
     "metadata": {},
     "output_type": "execute_result"
    }
   ],
   "source": [
    "from sklearn.neighbors import KNeighborsClassifier\n",
    "\n",
    "kNN = KNeighborsClassifier(n_neighbors = 6, metric = 'minkowski', p = 1)\n",
    "\n",
    "kNN.fit(x,y)"
   ]
  },
  {
   "cell_type": "code",
   "execution_count": 8,
   "id": "c3794eac",
   "metadata": {},
   "outputs": [
    {
     "data": {
      "text/plain": [
       "array([0])"
      ]
     },
     "execution_count": 8,
     "metadata": {},
     "output_type": "execute_result"
    }
   ],
   "source": [
    "x_N = np.array([[5.6,3.4,1.4,0.1]])\n",
    "\n",
    "kNN.predict(x_N)\n"
   ]
  },
  {
   "cell_type": "code",
   "execution_count": 9,
   "id": "c4fa79b1",
   "metadata": {},
   "outputs": [
    {
     "data": {
      "text/plain": [
       "array([2])"
      ]
     },
     "execution_count": 9,
     "metadata": {},
     "output_type": "execute_result"
    }
   ],
   "source": [
    "x_N2 = np.array([[7.5,4,5.5,2]])\n",
    "\n",
    "kNN.predict(x_N2)"
   ]
  },
  {
   "cell_type": "code",
   "execution_count": 10,
   "id": "1399fccc",
   "metadata": {},
   "outputs": [],
   "source": [
    "from sklearn.model_selection import train_test_split\n",
    "\n",
    "\n",
    "X_train, X_test, y_train, y_test = train_test_split(x,y, test_size = 0.2, train_size = 0.8,\n",
    "                                                    random_state = 88, shuffle= True,\n",
    "                                                    stratify=y)\n"
   ]
  },
  {
   "cell_type": "code",
   "execution_count": 11,
   "id": "f5fefe4e",
   "metadata": {},
   "outputs": [
    {
     "data": {
      "text/plain": [
       "KNeighborsClassifier(n_neighbors=50, p=1)"
      ]
     },
     "execution_count": 11,
     "metadata": {},
     "output_type": "execute_result"
    }
   ],
   "source": [
    "from sklearn.neighbors import KNeighborsClassifier\n",
    "\n",
    "kNN = KNeighborsClassifier(n_neighbors = 50, metric = 'minkowski', p = 1)\n",
    "\n",
    "kNN.fit(X_train,y_train)"
   ]
  },
  {
   "cell_type": "code",
   "execution_count": 12,
   "id": "7316d6fe",
   "metadata": {},
   "outputs": [],
   "source": [
    "predicted_types = kNN.predict(X_test)\n"
   ]
  },
  {
   "cell_type": "code",
   "execution_count": 13,
   "id": "542c3493",
   "metadata": {},
   "outputs": [
    {
     "data": {
      "text/plain": [
       "0.8333333333333334"
      ]
     },
     "execution_count": 13,
     "metadata": {},
     "output_type": "execute_result"
    }
   ],
   "source": [
    "from sklearn.metrics import accuracy_score\n",
    "\n",
    "accuracy_score(y_test,predicted_types)\n"
   ]
  },
  {
   "cell_type": "markdown",
   "id": "b614b65b",
   "metadata": {},
   "source": [
    "# Decision Tree Classifier"
   ]
  },
  {
   "cell_type": "code",
   "execution_count": 14,
   "id": "9ecbf340",
   "metadata": {},
   "outputs": [],
   "source": [
    "from sklearn.tree import DecisionTreeClassifier\n",
    "from sklearn.metrics import accuracy_score\n"
   ]
  },
  {
   "cell_type": "code",
   "execution_count": 15,
   "id": "d42343f1",
   "metadata": {},
   "outputs": [
    {
     "data": {
      "text/plain": [
       "DecisionTreeClassifier()"
      ]
     },
     "execution_count": 15,
     "metadata": {},
     "output_type": "execute_result"
    }
   ],
   "source": [
    "Dt = DecisionTreeClassifier()\n",
    "\n",
    "Dt.fit(X_train,y_train)\n"
   ]
  },
  {
   "cell_type": "code",
   "execution_count": 16,
   "id": "9a1c69a3",
   "metadata": {},
   "outputs": [
    {
     "data": {
      "text/plain": [
       "0.9666666666666667"
      ]
     },
     "execution_count": 16,
     "metadata": {},
     "output_type": "execute_result"
    }
   ],
   "source": [
    "Predicted_types_Dt = Dt.predict(X_test)\n",
    "\n",
    "accuracy_score(y_test, Predicted_types_Dt)"
   ]
  },
  {
   "cell_type": "code",
   "execution_count": 17,
   "id": "5aa81414",
   "metadata": {},
   "outputs": [],
   "source": [
    "from sklearn.model_selection import cross_val_score\n",
    "\n",
    "Scores_Dt = cross_val_score(Dt, x, y, cv = 10)"
   ]
  },
  {
   "cell_type": "markdown",
   "id": "e51338b3",
   "metadata": {},
   "source": [
    "# Naive Bayes Classifier"
   ]
  },
  {
   "cell_type": "code",
   "execution_count": 18,
   "id": "c900d8e6",
   "metadata": {},
   "outputs": [],
   "source": [
    "from sklearn.naive_bayes import GaussianNB\n",
    "\n",
    "NB = GaussianNB()\n"
   ]
  },
  {
   "cell_type": "code",
   "execution_count": 19,
   "id": "3748d374",
   "metadata": {},
   "outputs": [],
   "source": [
    "NB.fit(X_train,y_train)\n",
    "\n",
    "Predicted_types_NB = NB.predict(X_test)\n"
   ]
  },
  {
   "cell_type": "code",
   "execution_count": 20,
   "id": "9438ce7b",
   "metadata": {},
   "outputs": [
    {
     "data": {
      "text/plain": [
       "0.9666666666666667"
      ]
     },
     "execution_count": 20,
     "metadata": {},
     "output_type": "execute_result"
    }
   ],
   "source": [
    "from sklearn.metrics import accuracy_score\n",
    "\n",
    "accuracy_score(y_test,Predicted_types_NB)\n"
   ]
  },
  {
   "cell_type": "code",
   "execution_count": 21,
   "id": "ae629854",
   "metadata": {},
   "outputs": [],
   "source": [
    "from sklearn.model_selection import cross_val_score\n",
    "\n",
    "Scores_NB = cross_val_score(NB, x, y, cv = 10)\n"
   ]
  },
  {
   "cell_type": "markdown",
   "id": "ff7bd54e",
   "metadata": {},
   "source": [
    "# Logistic Regression"
   ]
  },
  {
   "cell_type": "code",
   "execution_count": 22,
   "id": "d235fbd4",
   "metadata": {},
   "outputs": [],
   "source": [
    "from sklearn.datasets import load_breast_cancer\n",
    "\n",
    "Data_C = load_breast_cancer()\n",
    "\n",
    "x = Data_C.data\n",
    "y = Data_C.target"
   ]
  },
  {
   "cell_type": "code",
   "execution_count": 23,
   "id": "dcfb5a5c",
   "metadata": {},
   "outputs": [],
   "source": [
    "from sklearn.model_selection import train_test_split\n",
    "\n",
    "X_train,X_test,y_train,y_test = train_test_split(x,y,test_size=0.3,train_size=0.7,random_state=42)"
   ]
  },
  {
   "cell_type": "code",
   "execution_count": 24,
   "id": "388dd985",
   "metadata": {},
   "outputs": [],
   "source": [
    " from sklearn.linear_model import LogisticRegression\n",
    "\n",
    "Lr = LogisticRegression()\n",
    "\n"
   ]
  },
  {
   "cell_type": "code",
   "execution_count": 25,
   "id": "d4e14220",
   "metadata": {},
   "outputs": [
    {
     "name": "stderr",
     "output_type": "stream",
     "text": [
      "C:\\Users\\CDR Lab\\.conda\\envs\\tf\\lib\\site-packages\\sklearn\\linear_model\\_logistic.py:763: ConvergenceWarning: lbfgs failed to converge (status=1):\n",
      "STOP: TOTAL NO. of ITERATIONS REACHED LIMIT.\n",
      "\n",
      "Increase the number of iterations (max_iter) or scale the data as shown in:\n",
      "    https://scikit-learn.org/stable/modules/preprocessing.html\n",
      "Please also refer to the documentation for alternative solver options:\n",
      "    https://scikit-learn.org/stable/modules/linear_model.html#logistic-regression\n",
      "  n_iter_i = _check_optimize_result(\n"
     ]
    }
   ],
   "source": [
    "Lr.fit(X_train,y_train)\n",
    "\n",
    "predicted_classes_Lr = Lr.predict(X_test)\n"
   ]
  },
  {
   "cell_type": "markdown",
   "id": "c40c9e38",
   "metadata": {},
   "source": [
    "# Evaluation Metrics"
   ]
  },
  {
   "cell_type": "code",
   "execution_count": 26,
   "id": "23999129",
   "metadata": {},
   "outputs": [],
   "source": [
    "from sklearn.metrics import confusion_matrix, classification_report\n",
    "\n",
    "Conf_Mat = confusion_matrix(y_test,predicted_classes_Lr)\n",
    "\n",
    "Class_rep = classification_report(y_test,predicted_classes_Lr)"
   ]
  },
  {
   "cell_type": "code",
   "execution_count": 27,
   "id": "ad0cb173",
   "metadata": {},
   "outputs": [],
   "source": [
    "\n",
    "import matplotlib.pyplot as plt\n",
    "from sklearn.metrics import roc_curve"
   ]
  },
  {
   "cell_type": "code",
   "execution_count": 28,
   "id": "f17bb5ab",
   "metadata": {},
   "outputs": [],
   "source": [
    "y_prob = Lr.predict_proba(X_test)\n",
    "\n",
    "y_prob = y_prob[:,1]\n",
    "\n",
    "FPR, TPR, Thresholds = roc_curve(y_test, y_prob)"
   ]
  },
  {
   "cell_type": "code",
   "execution_count": 29,
   "id": "12758c93",
   "metadata": {},
   "outputs": [
    {
     "data": {
      "image/png": "[encoded data removed]",
      "text/plain": [
       "<Figure size 432x288 with 1 Axes>"
      ]
     },
     "metadata": {
      "needs_background": "light"
     },
     "output_type": "display_data"
    }
   ],
   "source": [
    "plt.plot(FPR,TPR)\n",
    "plt.xlabel('FPR')\n",
    "plt.ylabel('TPR')\n",
    "plt.show()"
   ]
  },
  {
   "cell_type": "code",
   "execution_count": 30,
   "id": "d2823dc5",
   "metadata": {},
   "outputs": [
    {
     "data": {
      "text/plain": [
       "0.9966196355085244"
      ]
     },
     "execution_count": 30,
     "metadata": {},
     "output_type": "execute_result"
    }
   ],
   "source": [
    "from sklearn.metrics import roc_auc_score\n",
    "\n",
    "roc_auc_score(y_test,y_prob)\n",
    "\n"
   ]
  },
  {
   "cell_type": "code",
   "execution_count": null,
   "id": "a73872d8",
   "metadata": {},
   "outputs": [],
   "source": []
  }
 ],
 "metadata": {
  "kernelspec": {
   "display_name": "Python 3",
   "language": "python",
   "name": "python3"
  },
  "language_info": {
   "codemirror_mode": {
    "name": "ipython",
    "version": 3
   },
   "file_extension": ".py",
   "mimetype": "text/x-python",
   "name": "python",
   "nbconvert_exporter": "python",
   "pygments_lexer": "ipython3",
   "version": "3.8.8"
  }
 },
 "nbformat": 4,
 "nbformat_minor": 5
}
